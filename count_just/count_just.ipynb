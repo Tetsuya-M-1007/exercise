{
 "cells": [
  {
   "cell_type": "code",
   "execution_count": 1,
   "metadata": {},
   "outputs": [],
   "source": [
    "import random"
   ]
  },
  {
   "cell_type": "code",
   "execution_count": 2,
   "metadata": {},
   "outputs": [
    {
     "name": "stdout",
     "output_type": "stream",
     "text": [
      "Input correct words!:Where\n",
      "茨\n",
      "Input correct words!:are\n",
      "城\n",
      "Input correct words!:you?\n",
      "県\n",
      "Finish the process!\n"
     ]
    }
   ],
   "source": [
    "count = 1\n",
    "while True:\n",
    "    try:\n",
    "        word = str(input(\"Input correct words!:\"))\n",
    "        if count==1 and word==\"Where\":\n",
    "            print(\"茨\")\n",
    "        elif count==2 and word==\"are\":\n",
    "            print(\"城\")\n",
    "        elif count==3 and word==\"you?\":\n",
    "            print(\"県\")\n",
    "        else:\n",
    "            print(random.randrange(1, 10))\n",
    "        count+=1\n",
    "    \n",
    "    except:\n",
    "        print(\"Error!\")\n",
    "        continue\n",
    "    \n",
    "    if count>3:\n",
    "        print(\"Finish the process!\")\n",
    "        break"
   ]
  }
 ],
 "metadata": {
  "kernelspec": {
   "display_name": "Python 3",
   "language": "python",
   "name": "python3"
  },
  "language_info": {
   "codemirror_mode": {
    "name": "ipython",
    "version": 3
   },
   "file_extension": ".py",
   "mimetype": "text/x-python",
   "name": "python",
   "nbconvert_exporter": "python",
   "pygments_lexer": "ipython3",
   "version": "3.8.5"
  }
 },
 "nbformat": 4,
 "nbformat_minor": 4
}
